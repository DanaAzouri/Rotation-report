{
 "cells": [
  {
   "cell_type": "code",
   "execution_count": null,
   "metadata": {
    "collapsed": false
   },
   "outputs": [],
   "source": [
    "%matplotlib inline\n",
    "from imp import reload\n",
    "import numpy as np\n",
    "import matplotlib.pyplot as plt\n",
    "import pandas as pd\n",
    "import urllib.request\n",
    "import os.path\n",
    "import zipfile\n",
    "import datetime\n",
    "from scipy.integrate import odeint\n",
    "from scipy.optimize import curve_fit\n",
    "from scipy.integrate import odeint\n",
    "from scipy.stats import linregress\n",
    "import seaborn as sns\n",
    "sns.set_style('whitegrid')\n",
    "sns.set_context('notebook', font_scale=1)\n",
    "red, blue, green = sns.color_palette(\"Set1\", 3)\n",
    "\n",
    "plt.warnings.simplefilter(\"ignore\", category=FutureWarning)\n",
    "plt.warnings.filterwarnings('ignore', message='axes.color_cycle is deprecated and replaced with axes.prop_cycle; please use the latter.')\n",
    "\n",
    "import lmfit\n",
    "import curveball\n",
    "from curveball import baranyi_roberts_model \n",
    "import os\n",
    "os.getcwd"
   ]
  },
  {
   "cell_type": "code",
   "execution_count": null,
   "metadata": {
    "collapsed": false
   },
   "outputs": [],
   "source": [
    "plate = pd.read_csv(r'W-WB-B.csv')\n",
    "df = curveball.ioutils.read_tecan_xlsx('Dana_WB_150816_edited.xlsx', plate=plate, max_time=14)\n",
    "df = df[(df.Well != 'C8') & (df.Well != 'C9') & (df.Well != 'C10') & (df.Well != 'A11') & (df.Well != 'A12')]\n",
    "\n",
    "df1 = df[(df.Row != 'E') & (df.Row != 'F') & (df.Row != 'G') & (df.Row != 'H')]"
   ]
  },
  {
   "cell_type": "code",
   "execution_count": 3,
   "metadata": {
    "collapsed": false
   },
   "outputs": [
    {
     "data": {
      "text/plain": [
       "{'K': 0.33879482144538309,\n",
       " 'nu': 2.0221991284800236,\n",
       " 'q0': 0.13066518633729074,\n",
       " 'r': 0.61272119774896039,\n",
       " 'v': 0.93041876295170201,\n",
       " 'y0': 0.18065296422344312}"
      ]
     },
     "execution_count": 3,
     "metadata": {},
     "output_type": "execute_result"
    }
   ],
   "source": [
    "# in order to get an intiaial parameters guess\n",
    "m1 = curveball.models.fit_model(df1[df1.Strain=='B'], models=curveball.baranyi_roberts_model.BaranyiRoberts, PLOT=False, PRINT=False)[0]\n",
    "params_B = m1.best_values\n",
    "params_B"
   ]
  },
  {
   "cell_type": "code",
   "execution_count": 4,
   "metadata": {
    "collapsed": false
   },
   "outputs": [
    {
     "data": {
      "text/plain": [
       "{'K': 0.32388582772427066,\n",
       " 'nu': 4.4783735914925167,\n",
       " 'q0': 0.32901989985966029,\n",
       " 'r': 0.29744567383348575,\n",
       " 'v': 0.76695207638118301,\n",
       " 'y0': 0.18104967438861719}"
      ]
     },
     "execution_count": 4,
     "metadata": {},
     "output_type": "execute_result"
    }
   ],
   "source": [
    "# in order to get an intiaial parameters guess\n",
    "m1 = curveball.models.fit_model(df1[df1.Strain=='W'], models=curveball.baranyi_roberts_model.BaranyiRoberts, PLOT=False, PRINT=False)[0]\n",
    "params_W = m1.best_values\n",
    "params_W"
   ]
  },
  {
   "cell_type": "code",
   "execution_count": 5,
   "metadata": {
    "collapsed": false
   },
   "outputs": [
    {
     "name": "stdout",
     "output_type": "stream",
     "text": [
      "lambda_0_W = 1.82029469679\n",
      "lambda_0_B = 2.31930315994\n"
     ]
    }
   ],
   "source": [
    "K, nu, q0, r, v, y0 = params_W['K'], params_W['nu'], params_W['q0'], params_W['r'], params_W['v'], params_W['y0']\n",
    "lambda_0_W = 1/v * np.log(1 + 1/q0)\n",
    "\n",
    "K, nu, q0, r, v, y0 = params_B['K'], params_B['nu'], params_B['q0'], params_B['r'], params_B['v'], params_B['y0']\n",
    "lambda_0_B = 1/v * np.log(1 + 1/q0)\n",
    "\n",
    "print('lambda_0_W =', lambda_0_W)\n",
    "print('lambda_0_B =', lambda_0_B)"
   ]
  },
  {
   "cell_type": "code",
   "execution_count": 6,
   "metadata": {
    "collapsed": true
   },
   "outputs": [],
   "source": [
    "t = np.linspace(0,17)"
   ]
  },
  {
   "cell_type": "code",
   "execution_count": 7,
   "metadata": {
    "collapsed": true
   },
   "outputs": [],
   "source": [
    "def reject_outliers(data, m = 2.):\n",
    "    d = np.abs(data - np.median(data))\n",
    "    mdev = np.median(d)\n",
    "    s = d/mdev if mdev else 0.\n",
    "    return data[s<m]"
   ]
  },
  {
   "cell_type": "code",
   "execution_count": 8,
   "metadata": {
    "collapsed": true
   },
   "outputs": [],
   "source": [
    "def s(y_competition):\n",
    "    rel_fit = (np.log(y_comp[0][0][0]) - np.log(y_comp[-1][0][0]))/(np.log(y_comp[0][1][0]) - np.log(y_comp[-1][1][0]))\n",
    "    return (rel_fit-1)"
   ]
  },
  {
   "cell_type": "code",
   "execution_count": 9,
   "metadata": {
    "collapsed": false
   },
   "outputs": [],
   "source": [
    "# reference strain (W)\n",
    "\n",
    "K, nu, q0, r, v, y0 = params_W['K'], params_W['nu'], params_W['q0'], params_W['r'], params_W['v'], params_W['y0']\n",
    "lambda_0 = 1/v * np.log(1 + 1/q0)\n",
    "\n",
    "xs = np.linspace(0, lambda_0_W, 30)\n",
    "lags_W = np.empty_like(xs)\n",
    "ms_W = []\n",
    "#stds_W = np.empty_like(xs)\n",
    "\n",
    "for i, x in enumerate(xs):\n",
    "    lags_per_e = np.empty_like(xs)\n",
    "    for e in range(0, 30):\n",
    "        simulated = curveball.baranyi_roberts_model.baranyi_roberts_function(t, y0, K, r, nu, q0, v) +  np.random.normal(loc=0, scale=0.01, size=t.shape)\n",
    "        simulated[simulated < 0] = 0   \n",
    "        df = pd.DataFrame({'Time':t, 'OD':simulated})\n",
    "        m_W = curveball.models.fit_model(df, models=curveball.baranyi_roberts_model.BaranyiRoberts, PLOT=False, PRINT=False)[0]\n",
    "        params = m_W.best_values\n",
    "        q0_sim, v_sim = params['q0'], params['v']\n",
    "        lags_per_e[e] = 1/v_sim * np.log(1 + 1/q0_sim)\n",
    "        \n",
    "    lags_per_e = reject_outliers(lags_per_e)\n",
    "    lags_W[i] = np.mean(lags_per_e)\n",
    "    ms_W.append(m_W)"
   ]
  },
  {
   "cell_type": "code",
   "execution_count": 11,
   "metadata": {
    "collapsed": false
   },
   "outputs": [
    {
     "name": "stdout",
     "output_type": "stream",
     "text": [
      "2.31930315994\n",
      "1.68729831073\n",
      "[ 1.7305922   2.08596735  1.70213713  1.19522922  3.34666291  1.77330653\n",
      "  1.69173933  2.07773205  1.43974597  1.8490796   1.83961127  1.11579551\n",
      "  1.43477353  1.26779805  2.2231917   1.41246193  1.48565396  1.54321595\n",
      "  1.78444347  1.38791872  2.0563136   1.57586573  1.42209202  1.40062337\n",
      "  3.12634913  1.72981398  1.43812232  1.06610657  1.25288494  1.16372129]\n",
      "2.08596734992\n"
     ]
    }
   ],
   "source": [
    "print(lambda_0_B)\n",
    "print(np.mean(lags_W))\n",
    "print(lags_W)\n",
    "print(lags_W[1])"
   ]
  },
  {
   "cell_type": "code",
   "execution_count": 12,
   "metadata": {
    "collapsed": false
   },
   "outputs": [],
   "source": [
    "# assay strain (B)\n",
    "\n",
    "K, nu, q0, r, v, y0 = params_B['K'], params_B['nu'], params_B['q0'], params_B['r'], params_B['v'], params_B['y0']\n",
    "lambda_0 = 1/v * np.log(1 + 1/q0)\n",
    "\n",
    "xs = np.linspace(0, lambda_0_B, 30)\n",
    "lags_B = np.empty_like(xs)\n",
    "delta_lags_B = np.empty_like(xs)\n",
    "s_cs = np.empty_like(xs)\n",
    "ms_B = []\n",
    "#stds_B = np.empty_like(xs)\n",
    "\n",
    "for i, x in enumerate(xs):\n",
    "    lags_per_e = np.empty_like(xs)\n",
    "    s_c_per_e = np.empty_like(xs)\n",
    "    for e in range(0, 30):\n",
    "        K, nu, q0, r, v, y0 = params_B['K'], params_B['nu'], params_B['q0'], params_B['r'], params_B['v'], params_B['y0']\n",
    "        simulated = curveball.baranyi_roberts_model.baranyi_roberts_function(t, y0, K, r, nu, q0, v) +  np.random.normal(loc=0, scale=0.01, size=t.shape)\n",
    "        simulated[simulated < 0] = 0   \n",
    "        df = pd.DataFrame({'Time':t, 'OD':simulated})\n",
    "        m_B = curveball.models.fit_model(df, models=curveball.baranyi_roberts_model.BaranyiRoberts, PLOT=False, PRINT=False)[0]\n",
    "        params = m_B.best_values\n",
    "        K, nu, q0, r, v, y0 = params['K'], params['nu'], params['q0']*np.exp(params['v']*x), params['r'], params['v'], params['y0']\n",
    "        lags_per_e[e] = 1/v * np.log(1 + 1/q0)\n",
    "                \n",
    "        # in order to update m_B\n",
    "        simulated = curveball.baranyi_roberts_model.baranyi_roberts_function(t, y0, K, r, nu, q0, v)   \n",
    "        simulated[simulated < 0] = 0 \n",
    "        df = pd.DataFrame({'Time':t, 'OD':simulated})\n",
    "        m_B = curveball.models.fit_model(df, models=curveball.baranyi_roberts_model.BaranyiRoberts, PLOT=False, PRINT=False)[0]\n",
    "        t_comp, y_comp = curveball.competitions.compete(m_B, ms_W[1])\n",
    "        s_c_per_e[e] = s(y_comp)\n",
    "    \n",
    "    lags_per_e = reject_outliers(lags_per_e)\n",
    "    lags_B[i] = np.mean(lags_per_e)\n",
    "#    delta_lags_B[i] = lambda_0_B - lags_B[i]\n",
    "#    delta_lags_B[i] = np.mean(lags_W) - lags_B[i]\n",
    "    delta_lags_B[i] = lags_W[1] - lags_B[i]\n",
    "    \n",
    "    s_c_per_e = reject_outliers(s_c_per_e)\n",
    "    s_cs[i] = np.mean(s_c_per_e)\n",
    "    \n",
    "    ms_B.append(m_B)\n",
    "        \n",
    "#    stds_B[i] = np.std()\n"
   ]
  },
  {
   "cell_type": "code",
   "execution_count": 13,
   "metadata": {
    "collapsed": true
   },
   "outputs": [],
   "source": [
    "W_White = 1\n",
    "relative_fitness = 1+s_cs "
   ]
  },
  {
   "cell_type": "code",
   "execution_count": 21,
   "metadata": {
    "collapsed": false
   },
   "outputs": [
    {
     "name": "stdout",
     "output_type": "stream",
     "text": [
      "λ: 8.08282022409\n",
      "λ: 3.9912782882\n"
     ]
    }
   ],
   "source": [
    "print('λ:', curveball.baranyi_roberts_model.lag(ms_W[1]))\n",
    "print('λ:', curveball.baranyi_roberts_model.lag(ms_B[0]))"
   ]
  },
  {
   "cell_type": "code",
   "execution_count": 15,
   "metadata": {
    "collapsed": false
   },
   "outputs": [
    {
     "name": "stdout",
     "output_type": "stream",
     "text": [
      "scs: [-0.17849064 -0.17670462 -0.14285606 -0.08302599 -0.05317165 -0.0131003\n",
      " -0.07139998  0.03314317  0.03176814  0.09040801  0.08543129  0.13255435\n",
      "  0.17939771  0.19235701  0.19792129  0.25581     0.22735467  0.27661823\n",
      "  0.40509567  0.22265476  0.429342    0.34967039  0.42438293  0.36833052\n",
      "  0.38608653  0.38006889  0.55446235  0.4261378   0.41174516  0.42340366]\n",
      "relative fitness(White): [ 0.82150936  0.82329538  0.85714394  0.91697401  0.94682835  0.9868997\n",
      "  0.92860002  1.03314317  1.03176814  1.09040801  1.08543129  1.13255435\n",
      "  1.17939771  1.19235701  1.19792129  1.25581     1.22735467  1.27661823\n",
      "  1.40509567  1.22265476  1.429342    1.34967039  1.42438293  1.36833052\n",
      "  1.38608653  1.38006889  1.55446235  1.4261378   1.41174516  1.42340366]\n",
      "[ 0.04924164  0.6943539   0.45416164  0.41400949  0.83821364  0.67591226\n",
      "  1.20729105  0.80797616  1.01614228  1.21581707  0.96468879  0.62959181\n",
      "  0.62014253  1.25396253  1.34775865  1.33389175  1.08574865  1.39985641\n",
      "  1.28913227  1.45230463  1.26585367  1.60661099  1.48329679  1.84293266\n",
      "  1.78043923  2.01929322  1.62488853  1.63132286  1.95044652  1.89104634]\n"
     ]
    }
   ],
   "source": [
    "# make sense?\n",
    "#s_cs[s_cs<0] = 0\n",
    "print('scs:', s_cs)\n",
    "\n",
    "print('relative fitness(White):', relative_fitness)\n",
    "\n",
    "#delta_lags_A[delta_lags_A<0] = 0\n",
    "\n",
    "print(delta_lags_B)"
   ]
  },
  {
   "cell_type": "code",
   "execution_count": 16,
   "metadata": {
    "collapsed": false,
    "scrolled": true
   },
   "outputs": [
    {
     "data": {
      "image/png": "[encoded data removed]",
      "text/plain": [
       "<matplotlib.figure.Figure at 0xd33b128>"
      ]
     },
     "metadata": {},
     "output_type": "display_data"
    }
   ],
   "source": [
    "plt.scatter(delta_lags_B, relative_fitness)\n",
    "\n",
    "plt.title(r'Relative Fitness Vs $\\Delta$Lag Duration', size=22)\n",
    "plt.xlabel(r'$\\Delta$$\\lambda$ ($\\lambda$B-$\\lambda$A)', size=16)\n",
    "plt.ylabel('Relative Fitness', size=16)\n",
    "\n",
    "sns.despine()\n",
    "\n",
    "#plt.savefig('Relative Fitness Vs delta_Lag Duration.png')"
   ]
  },
  {
   "cell_type": "code",
   "execution_count": 26,
   "metadata": {
    "collapsed": false
   },
   "outputs": [
    {
     "name": "stdout",
     "output_type": "stream",
     "text": [
      "P-value is 6.5305279233e-09\n",
      "R^2 is 0.705338546993\n"
     ]
    },
    {
     "data": {
      "image/png": "[encoded data removed]",
      "text/plain": [
       "<matplotlib.figure.Figure at 0xb5ab160>"
      ]
     },
     "metadata": {},
     "output_type": "display_data"
    }
   ],
   "source": [
    "slope, intercept, r_value, p_value, std_err = linregress(delta_lags_B, s_cs)\n",
    "selection_coefficient = (intercept + slope * delta_lags_B)\n",
    "print(\"P-value is\", p_value)\n",
    "print(\"R^2 is\", (r_value)**2)\n",
    "      \n",
    "plt.plot(delta_lags_B, selection_coefficient, 'y') # prediction\n",
    "plt.scatter(delta_lags_B, s_cs, marker='.') # simulated data\n",
    "#plt.errorbar(delta_lags_A[8:], selection_coefficient, std_err, color='y') # prediction\n",
    "\n",
    "plt.title(r'Selection Coefficient Vs $\\Delta$Lag Duration', size=22)\n",
    "plt.xlabel(r'$\\Delta$$\\lambda$ ($\\lambda$W-$\\lambda$B)', size=16)\n",
    "plt.ylabel('S (B)', size=16)\n",
    "plt.legend(['prediction', 'simuated data'], loc='center left')\n",
    "\n",
    "plt.xlim(0.5,2.4)\n",
    "plt.ylim(0,0.7)\n",
    "sns.despine()\n",
    "\n",
    "#plt.savefig('S Vs delta_Lag - Prediction2b.png')"
   ]
  },
  {
   "cell_type": "code",
   "execution_count": null,
   "metadata": {
    "collapsed": false
   },
   "outputs": [],
   "source": [
    "#ini_s = selection_coefficient[0]\n",
    "#print(ini_s)\n",
    "#f = slope*1 + intercept\n",
    "#print('s for 1h:',f-ini_s)"
   ]
  },
  {
   "cell_type": "code",
   "execution_count": 19,
   "metadata": {
    "collapsed": false
   },
   "outputs": [
    {
     "name": "stdout",
     "output_type": "stream",
     "text": [
      "-0.230215381379\n",
      "s for 1h: 0.353505015351\n"
     ]
    }
   ],
   "source": [
    "#ini_s = selection_coefficient[0]\n",
    "ini_s = slope*0 + intercept\n",
    "print(ini_s)\n",
    "f = slope*1 + intercept\n",
    "print('s for 1h:',f-ini_s)"
   ]
  },
  {
   "cell_type": "code",
   "execution_count": null,
   "metadata": {
    "collapsed": false
   },
   "outputs": [],
   "source": [
    "print(std_err) # represents the average distance that the observed values fall from the regression line. it tells you how wrong the regression model is on average using the units of the response variable."
   ]
  },
  {
   "cell_type": "code",
   "execution_count": null,
   "metadata": {
    "collapsed": false
   },
   "outputs": [],
   "source": [
    "#t = (0.5-0.65)/(std_err/np.sqrt(30))\n",
    "z = (0.6577-0.6568)/(std_err)\n",
    "print('z:', z)\n",
    "pv = 0.0136  # change according t table\n",
    "print('pv:', 2*pv)"
   ]
  },
  {
   "cell_type": "code",
   "execution_count": 22,
   "metadata": {
    "collapsed": false
   },
   "outputs": [
    {
     "name": "stdout",
     "output_type": "stream",
     "text": [
      "Relative Fitness: 0.82422252447\n"
     ]
    },
    {
     "data": {
      "image/png": "[encoded data removed]",
      "text/plain": [
       "<matplotlib.figure.Figure at 0xe362cf8>"
      ]
     },
     "metadata": {},
     "output_type": "display_data"
    }
   ],
   "source": [
    "t_comp, y_comp, fig, ax = curveball.competitions.compete(ms_B[0], ms_W[1], PLOT=True, colors=['blue', 'orange'])\n",
    "plt.xlim(0,8)\n",
    "\n",
    "select_coeff = s (y_comp)\n",
    "print('Relative Fitness:',1+select_coeff)"
   ]
  }
 ],
 "metadata": {
  "kernelspec": {
   "display_name": "Python 3",
   "language": "python",
   "name": "python3"
  },
  "language_info": {
   "codemirror_mode": {
    "name": "ipython",
    "version": 3
   },
   "file_extension": ".py",
   "mimetype": "text/x-python",
   "name": "python",
   "nbconvert_exporter": "python",
   "pygments_lexer": "ipython3",
   "version": "3.5.1"
  }
 },
 "nbformat": 4,
 "nbformat_minor": 0
}
